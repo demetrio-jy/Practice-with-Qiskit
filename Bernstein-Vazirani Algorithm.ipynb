{
 "cells": [
  {
   "cell_type": "markdown",
   "metadata": {},
   "source": [
    "# Bernstein-Vazirani Algorithm\n",
    "\n",
    "### Practice with Qiskit\n",
    "\n",
    "In this notebook I will develope the Bernstein-Vazirani algorith. It is a restricted version of the Deutsch–Jozsa algorithm: instead of distinguishing between two distinct classes of functions, the algorithm tries to learn a string encoded in a function. \n",
    "\n",
    "If we consider a binary number of lenght $N$ and we want to know what the number is, a classical algorithm will take up to $N$ tries to extract the correct string: the B-V algorithm, instead, only needs one attempt."
   ]
  },
  {
   "cell_type": "code",
   "execution_count": 2,
   "metadata": {},
   "outputs": [],
   "source": [
    "from qiskit import *\n",
    "%matplotlib inline\n",
    "from qiskit.tools.visualization import plot_histogram"
   ]
  },
  {
   "cell_type": "code",
   "execution_count": 3,
   "metadata": {},
   "outputs": [],
   "source": [
    "# I start declaring the number the algorithm has to discover\n",
    "\n",
    "number = '100101'"
   ]
  },
  {
   "cell_type": "code",
   "execution_count": 8,
   "metadata": {},
   "outputs": [
    {
     "data": {
      "text/plain": [
       "<qiskit.circuit.instructionset.InstructionSet at 0x1a88a6b2948>"
      ]
     },
     "execution_count": 8,
     "metadata": {},
     "output_type": "execute_result"
    }
   ],
   "source": [
    "# I then build the circuit: it as to contain a number of qubit equals to the lenght of the binary number +1\n",
    "\n",
    "circuit = QuantumCircuit(7, 6)\n",
    "\n",
    "# The 6 qubits have to be prepared in superposition using Hadamard gates; the 7th instead needs an extra x gate\n",
    "\n",
    "circuit.h([0, 1, 2, 3, 4, 5])\n",
    "circuit.x(6)\n",
    "circuit.h(6)\n",
    "\n",
    "circuit.barrier()"
   ]
  },
  {
   "cell_type": "code",
   "execution_count": 9,
   "metadata": {},
   "outputs": [
    {
     "data": {
      "text/plain": [
       "<qiskit.circuit.instructionset.InstructionSet at 0x1a88a6b2e88>"
      ]
     },
     "execution_count": 9,
     "metadata": {},
     "output_type": "execute_result"
    }
   ],
   "source": [
    "# to proceed with the algorithm let's build the black box for the number by applying a C-NOT on the support qubit\n",
    "\n",
    "circuit.cx(5, 6)\n",
    "circuit.cx(3, 6)\n",
    "circuit.cx(0, 6)\n",
    "circuit.barrier()"
   ]
  },
  {
   "cell_type": "code",
   "execution_count": 10,
   "metadata": {},
   "outputs": [
    {
     "data": {
      "text/plain": [
       "<qiskit.circuit.instructionset.InstructionSet at 0x1a88a6b7488>"
      ]
     },
     "execution_count": 10,
     "metadata": {},
     "output_type": "execute_result"
    }
   ],
   "source": [
    "# The last step is to aplly once again the hadamard gates on the number's qubits\n",
    "\n",
    "circuit.h([0, 1, 2, 3, 4, 5])\n",
    "circuit.barrier()"
   ]
  },
  {
   "cell_type": "code",
   "execution_count": 11,
   "metadata": {},
   "outputs": [
    {
     "data": {
      "text/plain": [
       "<qiskit.circuit.instructionset.InstructionSet at 0x1a88a6b7cc8>"
      ]
     },
     "execution_count": 11,
     "metadata": {},
     "output_type": "execute_result"
    }
   ],
   "source": [
    "# Now the 6 qubits can be measured\n",
    "\n",
    "circuit.measure([0, 1, 2, 3, 4, 5], [0, 1, 2, 3, 4, 5])"
   ]
  },
  {
   "cell_type": "code",
   "execution_count": 12,
   "metadata": {},
   "outputs": [
    {
     "data": {
      "image/png": "[encoded data removed]",
      "text/plain": [
       "<Figure size 989.597x505.68 with 1 Axes>"
      ]
     },
     "execution_count": 12,
     "metadata": {},
     "output_type": "execute_result"
    }
   ],
   "source": [
    "# Take a look to the obtained circuit\n",
    "\n",
    "circuit.draw(output='mpl')"
   ]
  },
  {
   "cell_type": "code",
   "execution_count": 14,
   "metadata": {},
   "outputs": [
    {
     "name": "stdout",
     "output_type": "stream",
     "text": [
      "{'101001': 1}\n"
     ]
    }
   ],
   "source": [
    "# The circuit can be simulated: to obtain the correct results we only need one shot\n",
    "\n",
    "simulator = Aer.get_backend('qasm_simulator')\n",
    "result = execute(circuit, backend=simulator, shots=1).result()\n",
    "counts = result.get_counts()\n",
    "print(counts)"
   ]
  },
  {
   "cell_type": "code",
   "execution_count": 15,
   "metadata": {},
   "outputs": [
    {
     "data": {
      "text/plain": [
       "<qiskit.circuit.instructionset.InstructionSet at 0x1a8d17fa7c8>"
      ]
     },
     "execution_count": 15,
     "metadata": {},
     "output_type": "execute_result"
    }
   ],
   "source": [
    "# Now the code is generaized for a number of lenght N\n",
    "\n",
    "number = '1011010'\n",
    "\n",
    "circuit = QuantumCircuit(len(number)+1, len(number))\n",
    "\n",
    "circuit.h(range(len(number)))\n",
    "circuit.x(len(number))\n",
    "circuit.h(len(number))\n",
    "\n",
    "for i, yesno in enumerate(reversed(number)):\n",
    "    if yesno == '1':\n",
    "        circuit.cx(i, len(number))\n",
    "        \n",
    "circuit.h(range(len(number)))\n",
    "\n",
    "circuit.measure(range(len(number)), range(len(number)))"
   ]
  },
  {
   "cell_type": "code",
   "execution_count": 16,
   "metadata": {},
   "outputs": [
    {
     "name": "stdout",
     "output_type": "stream",
     "text": [
      "{'1011010': 1}\n"
     ]
    }
   ],
   "source": [
    "result = execute(circuit, backend=simulator, shots=1).result()\n",
    "counts = result.get_counts()\n",
    "print(counts)"
   ]
  }
 ],
 "metadata": {
  "kernelspec": {
   "display_name": "Python 3",
   "language": "python",
   "name": "python3"
  },
  "language_info": {
   "codemirror_mode": {
    "name": "ipython",
    "version": 3
   },
   "file_extension": ".py",
   "mimetype": "text/x-python",
   "name": "python",
   "nbconvert_exporter": "python",
   "pygments_lexer": "ipython3",
   "version": "3.7.4"
  }
 },
 "nbformat": 4,
 "nbformat_minor": 2
}
